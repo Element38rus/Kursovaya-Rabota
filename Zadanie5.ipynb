{
 "cells": [
  {
   "cell_type": "markdown",
   "metadata": {},
   "source": [
    "## Задача 1"
   ]
  },
  {
   "cell_type": "code",
   "execution_count": 1,
   "metadata": {},
   "outputs": [
    {
     "name": "stdout",
     "output_type": "stream",
     "text": [
      "50\n",
      "1 4 9 16 25 36 49 "
     ]
    }
   ],
   "source": [
    "i = 1\n",
    "N = int(input())\n",
    "while (i*i <= N):\n",
    "    print (i*i, end=\" \")\n",
    "    i += 1"
   ]
  },
  {
   "cell_type": "markdown",
   "metadata": {},
   "source": [
    "## Задача 2"
   ]
  },
  {
   "cell_type": "code",
   "execution_count": 2,
   "metadata": {},
   "outputs": [
    {
     "name": "stdout",
     "output_type": "stream",
     "text": [
      "15\n",
      "3\n"
     ]
    }
   ],
   "source": [
    "N = int(input())\n",
    "i = 2\n",
    "while (N % i != 0 and i != N):\n",
    "    i += 1\n",
    "print (i)"
   ]
  },
  {
   "cell_type": "markdown",
   "metadata": {},
   "source": [
    "## Задача 3"
   ]
  },
  {
   "cell_type": "code",
   "execution_count": 3,
   "metadata": {},
   "outputs": [
    {
     "name": "stdout",
     "output_type": "stream",
     "text": [
      "50\n",
      "1 2 4 8 16 32 "
     ]
    }
   ],
   "source": [
    "i = 0\n",
    "N = int(input())\n",
    "while (2**i <= N):\n",
    "    print (2**i, end=\" \")\n",
    "    i += 1"
   ]
  },
  {
   "cell_type": "markdown",
   "metadata": {},
   "source": [
    "## Задача 4 "
   ]
  },
  {
   "cell_type": "code",
   "execution_count": 4,
   "metadata": {},
   "outputs": [
    {
     "name": "stdout",
     "output_type": "stream",
     "text": [
      "8\n",
      "YES\n"
     ]
    }
   ],
   "source": [
    "N = int(input())\n",
    "i = 1\n",
    "while (i <= N):\n",
    "    if (i == N):\n",
    "        print(\"YES\")\n",
    "        break\n",
    "    i *= 2\n",
    "else:\n",
    "    print(\"NO\")"
   ]
  },
  {
   "cell_type": "markdown",
   "metadata": {},
   "source": [
    "## Задача 5"
   ]
  },
  {
   "cell_type": "code",
   "execution_count": 5,
   "metadata": {},
   "outputs": [
    {
     "name": "stdout",
     "output_type": "stream",
     "text": [
      "3\n",
      "2\n"
     ]
    }
   ],
   "source": [
    "N = int(input())\n",
    "i, k = 1, 0\n",
    "while (i < N):\n",
    "    i *= 2\n",
    "    k += 1\n",
    "print (k)"
   ]
  },
  {
   "cell_type": "markdown",
   "metadata": {},
   "source": [
    "## Задача 6"
   ]
  },
  {
   "cell_type": "code",
   "execution_count": 6,
   "metadata": {},
   "outputs": [
    {
     "name": "stdout",
     "output_type": "stream",
     "text": [
      "10\n",
      "30\n",
      "13\n"
     ]
    }
   ],
   "source": [
    "X = int(input())\n",
    "Y = int(input())\n",
    "i = 1\n",
    "while (X <= Y):\n",
    "    i += 1\n",
    "    X *= 1.1\n",
    "print (i)"
   ]
  },
  {
   "cell_type": "markdown",
   "metadata": {},
   "source": [
    "## Задача 7"
   ]
  },
  {
   "cell_type": "code",
   "execution_count": 7,
   "metadata": {},
   "outputs": [
    {
     "name": "stdout",
     "output_type": "stream",
     "text": [
      "1\n",
      "2\n",
      "3\n",
      "2\n",
      "1\n",
      "0\n",
      "3\n"
     ]
    }
   ],
   "source": [
    "k = int(input())\n",
    "MAX = k\n",
    "while (k != 0):\n",
    "    MAX = max(MAX, k)\n",
    "    k = int(input())\n",
    "print (MAX)"
   ]
  },
  {
   "cell_type": "markdown",
   "metadata": {},
   "source": [
    "## Задача 8"
   ]
  },
  {
   "cell_type": "code",
   "execution_count": 8,
   "metadata": {},
   "outputs": [
    {
     "name": "stdout",
     "output_type": "stream",
     "text": [
      "3\n",
      "14\n"
     ]
    }
   ],
   "source": [
    "N = int(input())\n",
    "sum = 0\n",
    "for i in range(1,N+1):\n",
    "    sum += i*i\n",
    "print (sum)"
   ]
  },
  {
   "cell_type": "markdown",
   "metadata": {},
   "source": [
    "## Задача 9"
   ]
  },
  {
   "cell_type": "code",
   "execution_count": 9,
   "metadata": {},
   "outputs": [
    {
     "name": "stdout",
     "output_type": "stream",
     "text": [
      "1\n",
      "2\n",
      "3\n",
      "4\n",
      "5\n",
      "6\n",
      "7\n",
      "0\n",
      "7\n"
     ]
    }
   ],
   "source": [
    "i, k = -1, 1\n",
    "while (k != 0):\n",
    "    i += 1\n",
    "    k = int(input())\n",
    "print (i)"
   ]
  },
  {
   "cell_type": "markdown",
   "metadata": {},
   "source": [
    "## Задача 10"
   ]
  },
  {
   "cell_type": "code",
   "execution_count": 10,
   "metadata": {},
   "outputs": [
    {
     "name": "stdout",
     "output_type": "stream",
     "text": [
      "1\n",
      "7\n",
      "9\n",
      "0\n",
      "17\n"
     ]
    }
   ],
   "source": [
    "k, sum = 1, 0\n",
    "while (k != 0):\n",
    "    k = int(input())\n",
    "    sum += k\n",
    "print (sum)"
   ]
  },
  {
   "cell_type": "markdown",
   "metadata": {},
   "source": [
    "## Задача 11"
   ]
  },
  {
   "cell_type": "code",
   "execution_count": 11,
   "metadata": {},
   "outputs": [
    {
     "name": "stdout",
     "output_type": "stream",
     "text": [
      "1\n",
      "7\n",
      "9\n",
      "0\n",
      "5.666666666666667\n"
     ]
    }
   ],
   "source": [
    "k, sum, i = 1, 0, -1\n",
    "while (k != 0):\n",
    "    k = int(input())\n",
    "    sum += k\n",
    "    i += 1\n",
    "print (sum/i)"
   ]
  },
  {
   "cell_type": "markdown",
   "metadata": {},
   "source": [
    "## Задача 12"
   ]
  },
  {
   "cell_type": "code",
   "execution_count": 12,
   "metadata": {},
   "outputs": [
    {
     "name": "stdout",
     "output_type": "stream",
     "text": [
      "2\n",
      "1\n",
      "4\n",
      "0\n",
      "2\n"
     ]
    }
   ],
   "source": [
    "k, i = 1, -1\n",
    "while (k != 0):\n",
    "    k = int(input())\n",
    "    if (k % 2 == 0):\n",
    "        i += 1\n",
    "print (i)"
   ]
  },
  {
   "cell_type": "markdown",
   "metadata": {},
   "source": [
    "## Задача 13"
   ]
  },
  {
   "cell_type": "code",
   "execution_count": 13,
   "metadata": {},
   "outputs": [
    {
     "name": "stdout",
     "output_type": "stream",
     "text": [
      "1\n",
      "7\n",
      "9\n",
      "0\n",
      "2\n"
     ]
    }
   ],
   "source": [
    "k1, k2, i = int(input()), 1, 0\n",
    "while (k2 != 0):\n",
    "    k2 = int(input())\n",
    "    if (k1 < k2):\n",
    "        i += 1\n",
    "    k1 = k2\n",
    "print (i)"
   ]
  },
  {
   "cell_type": "markdown",
   "metadata": {},
   "source": [
    "## Задача 14"
   ]
  },
  {
   "cell_type": "code",
   "execution_count": 14,
   "metadata": {},
   "outputs": [
    {
     "name": "stdout",
     "output_type": "stream",
     "text": [
      "1\n",
      "7\n",
      "9\n",
      "0\n",
      "7\n"
     ]
    }
   ],
   "source": [
    "Fmax = int(input())\n",
    "Smax = int(input())\n",
    "if (Fmax < Smax):\n",
    "    Fmax, Smax = Smax, Fmax\n",
    "k = int(input())\n",
    "while (k != 0):\n",
    "    if (k > Fmax):\n",
    "        Smax, Fmax = Fmax, k\n",
    "    elif (k > Smax):\n",
    "        Smax = k\n",
    "    k = int(input())\n",
    "print(Smax)"
   ]
  },
  {
   "cell_type": "markdown",
   "metadata": {},
   "source": [
    "## Задача 15"
   ]
  },
  {
   "cell_type": "code",
   "execution_count": 15,
   "metadata": {},
   "outputs": [
    {
     "name": "stdout",
     "output_type": "stream",
     "text": [
      "1\n",
      "3\n",
      "3\n",
      "1\n",
      "0\n",
      "2\n"
     ]
    }
   ],
   "source": [
    "k, i = int(input()), 0\n",
    "MAX = k\n",
    "while (k != 0):\n",
    "    if (k > MAX):\n",
    "        MAX = k\n",
    "        i = 0\n",
    "    if (k == MAX):\n",
    "        i += 1\n",
    "    k = int(input())\n",
    "print (i)"
   ]
  },
  {
   "cell_type": "markdown",
   "metadata": {},
   "source": [
    "## Задача 16"
   ]
  },
  {
   "cell_type": "code",
   "execution_count": 16,
   "metadata": {},
   "outputs": [
    {
     "name": "stdout",
     "output_type": "stream",
     "text": [
      "6\n",
      "8\n"
     ]
    }
   ],
   "source": [
    "def fibo(n):\n",
    "    if (n < 3):\n",
    "        return 1\n",
    "    return fibo(n-1)+fibo(n-2)\n",
    "n = int(input())\n",
    "print (fibo(n))"
   ]
  },
  {
   "cell_type": "markdown",
   "metadata": {},
   "source": [
    "## Задача 17"
   ]
  },
  {
   "cell_type": "code",
   "execution_count": 17,
   "metadata": {},
   "outputs": [
    {
     "name": "stdout",
     "output_type": "stream",
     "text": [
      "13\n",
      "7\n"
     ]
    }
   ],
   "source": [
    "A = int(input())\n",
    "i = 0\n",
    "while (fibo(i) < A):\n",
    "    i += 1\n",
    "if (fibo(i) == A):\n",
    "    print (i)\n",
    "else:\n",
    "    print (-1)"
   ]
  },
  {
   "cell_type": "markdown",
   "metadata": {},
   "source": [
    "## Задача 18"
   ]
  },
  {
   "cell_type": "code",
   "execution_count": 18,
   "metadata": {},
   "outputs": [
    {
     "name": "stdout",
     "output_type": "stream",
     "text": [
      "179\n",
      "20\n",
      "-1\n",
      ":2\n",
      "-1\n",
      ":2\n",
      ":2\n",
      "-1\n",
      "-1\n"
     ]
    }
   ],
   "source": [
    "A = int(input())\n",
    "B = int(input())\n",
    "while (A != B):\n",
    "    if (A % 2 == 0 and A / 2 >= B):\n",
    "        A //= 2\n",
    "        print (\":2\")\n",
    "    else:\n",
    "        A -= 1\n",
    "        print (\"-1\")"
   ]
  },
  {
   "cell_type": "markdown",
   "metadata": {},
   "source": [
    "## Задача 19"
   ]
  },
  {
   "cell_type": "code",
   "execution_count": 20,
   "metadata": {},
   "outputs": [
    {
     "name": "stdout",
     "output_type": "stream",
     "text": [
      "874\n",
      "478"
     ]
    }
   ],
   "source": [
    "N = int(input())\n",
    "while (N > 0):\n",
    "    print (N%10, end=\"\")\n",
    "    N //= 10"
   ]
  },
  {
   "cell_type": "markdown",
   "metadata": {},
   "source": [
    "## Задача 20"
   ]
  },
  {
   "cell_type": "code",
   "execution_count": 21,
   "metadata": {},
   "outputs": [
    {
     "name": "stdout",
     "output_type": "stream",
     "text": [
      "100\n",
      "18\n"
     ]
    }
   ],
   "source": [
    "K = int(input())\n",
    "j = 0\n",
    "for i in range(1, K+1):\n",
    "    STR = str(i)\n",
    "    if (STR == STR[::-1]):\n",
    "        j += 1\n",
    "print (j)"
   ]
  },
  {
   "cell_type": "markdown",
   "metadata": {},
   "source": [
    "## Задача 21"
   ]
  },
  {
   "cell_type": "code",
   "execution_count": 22,
   "metadata": {},
   "outputs": [
    {
     "name": "stdout",
     "output_type": "stream",
     "text": [
      "1\n",
      "7\n",
      "7\n",
      "9\n",
      "1\n",
      "0\n",
      "2\n"
     ]
    }
   ],
   "source": [
    "max_seq, seq, k1, k2 = 1, 1, int(input()), 0\n",
    "while (k1 != 0):\n",
    "    k2 = int(input())\n",
    "    if (k1 == k2):\n",
    "        seq += 1\n",
    "    else:\n",
    "        seq = 1\n",
    "    if (seq > max_seq):\n",
    "        max_seq = seq\n",
    "    k1 = k2\n",
    "print (max_seq)"
   ]
  },
  {
   "cell_type": "markdown",
   "metadata": {},
   "source": [
    "## Задача 22"
   ]
  },
  {
   "cell_type": "code",
   "execution_count": 23,
   "metadata": {},
   "outputs": [
    {
     "name": "stdout",
     "output_type": "stream",
     "text": [
      "1\n",
      "7\n",
      "7\n",
      "9\n",
      "1\n",
      "0\n",
      "2\n"
     ]
    }
   ],
   "source": [
    "seq1, seq2, k1 = 0, 0, int(input())\n",
    "k2 = int(input())\n",
    "Ms1, Ms2 = 0, 0\n",
    "if (k1 > k2):\n",
    "    seq1 += 1\n",
    "else:\n",
    "    seq1 = 0\n",
    "if (k1 < k2):\n",
    "    seq2 += 1\n",
    "else:\n",
    "    seq2 = 0\n",
    "while (k2 != 0):\n",
    "    if (k1 > k2):\n",
    "        seq1 += 1\n",
    "    else:\n",
    "        seq1 = 0\n",
    "    if (k1 < k2):\n",
    "        seq2 += 1\n",
    "    else:\n",
    "        seq2 = 0\n",
    "    if (Ms1 < seq1):\n",
    "        Ms1 = seq1\n",
    "    if (Ms2 < seq2):\n",
    "        Ms2 = seq2\n",
    "    k1 = k2\n",
    "    k2 = int(input())\n",
    "print (max(Ms1, Ms2))"
   ]
  },
  {
   "cell_type": "markdown",
   "metadata": {},
   "source": [
    "## Задача 23"
   ]
  },
  {
   "cell_type": "code",
   "execution_count": 24,
   "metadata": {},
   "outputs": [
    {
     "name": "stdout",
     "output_type": "stream",
     "text": [
      "1\n",
      "2\n",
      "1\n",
      "1\n",
      "2\n",
      "1\n",
      "2\n",
      "1\n",
      "0\n",
      "2\n"
     ]
    }
   ],
   "source": [
    "x, i = 1, 0\n",
    "k1, k2, k3 = 1, 0, 0\n",
    "max1_i, max2_i = 0, 0\n",
    "Res = 1000000\n",
    "while (k1 != 0):\n",
    "    i += 1\n",
    "    k3, k2, k1 = k2, k1, int(input())\n",
    "    if (i > 2 and k2 > k1 and k2 > k3 and k1 != 0):\n",
    "        max2_i = max1_i\n",
    "        max1_i =  i\n",
    "        if ((max1_i > 0) and (max2_i > 0) and (max1_i - max2_i < Res)):\n",
    "            Res = max1_i - max2_i\n",
    "if Res == 1000000: \n",
    "    Res = 0\n",
    "print(Res)"
   ]
  },
  {
   "cell_type": "markdown",
   "metadata": {},
   "source": [
    "## Задача 24"
   ]
  },
  {
   "cell_type": "code",
   "execution_count": 25,
   "metadata": {},
   "outputs": [
    {
     "name": "stdout",
     "output_type": "stream",
     "text": [
      "3\n",
      "4\n",
      "5\n",
      "6.0\n"
     ]
    }
   ],
   "source": [
    "a = int(input())\n",
    "b = int(input())\n",
    "c = int(input())\n",
    "p = (a + b + c) / 2\n",
    "print ((p*(p - a)*(p - b)*(p - c))**0.5)"
   ]
  }
 ],
 "metadata": {
  "kernelspec": {
   "display_name": "Python 3",
   "language": "python",
   "name": "python3"
  },
  "language_info": {
   "codemirror_mode": {
    "name": "ipython",
    "version": 3
   },
   "file_extension": ".py",
   "mimetype": "text/x-python",
   "name": "python",
   "nbconvert_exporter": "python",
   "pygments_lexer": "ipython3",
   "version": "3.7.6"
  }
 },
 "nbformat": 4,
 "nbformat_minor": 4
}
