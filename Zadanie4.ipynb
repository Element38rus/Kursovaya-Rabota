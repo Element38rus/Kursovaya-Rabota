{
 "cells": [
  {
   "cell_type": "markdown",
   "metadata": {},
   "source": [
    "## Задача 1"
   ]
  },
  {
   "cell_type": "code",
   "execution_count": 1,
   "metadata": {},
   "outputs": [
    {
     "name": "stdout",
     "output_type": "stream",
     "text": [
      "8\n",
      "5\n",
      "8\n"
     ]
    }
   ],
   "source": [
    "a = int(input())\n",
    "b = int(input())\n",
    "if a > b:\n",
    "    print (a)\n",
    "else:\n",
    "    print (b)"
   ]
  },
  {
   "cell_type": "markdown",
   "metadata": {},
   "source": [
    "## Задача 2"
   ]
  },
  {
   "cell_type": "code",
   "execution_count": 2,
   "metadata": {},
   "outputs": [
    {
     "name": "stdout",
     "output_type": "stream",
     "text": [
      "1\n",
      "2\n",
      "2\n"
     ]
    }
   ],
   "source": [
    "a = int(input())\n",
    "b = int(input())\n",
    "if a > b:\n",
    "    print (1)\n",
    "elif a < b:\n",
    "    print (2)\n",
    "else:\n",
    "    print (3)"
   ]
  },
  {
   "cell_type": "markdown",
   "metadata": {},
   "source": [
    "## Задача 3"
   ]
  },
  {
   "cell_type": "code",
   "execution_count": 3,
   "metadata": {},
   "outputs": [
    {
     "name": "stdout",
     "output_type": "stream",
     "text": [
      "1\n",
      "2\n",
      "3\n",
      "3\n"
     ]
    }
   ],
   "source": [
    "a = int(input())\n",
    "b = int(input())\n",
    "c = int(input())\n",
    "if (a > b or b > c):\n",
    "    if (a > b):\n",
    "        print (a)\n",
    "    else:\n",
    "        print (b)\n",
    "else:\n",
    "    print (c)"
   ]
  },
  {
   "attachments": {},
   "cell_type": "markdown",
   "metadata": {},
   "source": [
    "## Задача 4"
   ]
  },
  {
   "cell_type": "code",
   "execution_count": 4,
   "metadata": {},
   "outputs": [
    {
     "name": "stdout",
     "output_type": "stream",
     "text": [
      "4\n",
      "YES\n"
     ]
    }
   ],
   "source": [
    "a = int(input())\n",
    "if ((a % 4 == 0 and a % 100 != 0) or a % 400 == 0):\n",
    "    print (\"YES\")\n",
    "else:\n",
    "    print (\"NO\")"
   ]
  },
  {
   "cell_type": "markdown",
   "metadata": {},
   "source": [
    "## Задача 5"
   ]
  },
  {
   "cell_type": "code",
   "execution_count": 5,
   "metadata": {},
   "outputs": [
    {
     "name": "stdout",
     "output_type": "stream",
     "text": [
      "4\n",
      "4\n",
      "5\n",
      "5\n",
      "YES\n"
     ]
    }
   ],
   "source": [
    "a1 = int(input())\n",
    "b1 = int(input())\n",
    "a2 = int(input())\n",
    "b2 = int(input())\n",
    "if (abs(a1 - a2) <= 1 and abs(b1 - b2) <= 1):\n",
    "    print (\"YES\")\n",
    "else:\n",
    "    print (\"NO\")"
   ]
  },
  {
   "cell_type": "markdown",
   "metadata": {},
   "source": [
    "## Задача 6"
   ]
  },
  {
   "cell_type": "code",
   "execution_count": 6,
   "metadata": {},
   "outputs": [
    {
     "name": "stdout",
     "output_type": "stream",
     "text": [
      "11\n",
      "15\n",
      "YES\n"
     ]
    }
   ],
   "source": [
    "a = int(input())\n",
    "b = int(input())\n",
    "if ((a - 1)%(b - a + 1) == 0):\n",
    "    print (\"YES\")\n",
    "else:\n",
    "    print (\"NO\")"
   ]
  },
  {
   "cell_type": "markdown",
   "metadata": {},
   "source": [
    "## Задача 7"
   ]
  },
  {
   "cell_type": "code",
   "execution_count": 7,
   "metadata": {},
   "outputs": [
    {
     "name": "stdout",
     "output_type": "stream",
     "text": [
      "1\n",
      "1\n",
      "2\n",
      "2\n",
      "YES\n"
     ]
    }
   ],
   "source": [
    "a1 = int(input())\n",
    "b1 = int(input())\n",
    "a2 = int(input())\n",
    "b2 = int(input())\n",
    "if ((a1 + b1)%2 == 0):\n",
    "    if ((a2 + b2)%2 == 0):\n",
    "        print (\"YES\")\n",
    "    else:\n",
    "        print (\"NO\")\n",
    "else:\n",
    "    if((a2 + b2)%2 == 0):\n",
    "        print (\"NO\")\n",
    "    else:\n",
    "        print (\"YES\")"
   ]
  },
  {
   "cell_type": "markdown",
   "metadata": {},
   "source": [
    "## Задача 8"
   ]
  },
  {
   "cell_type": "code",
   "execution_count": 8,
   "metadata": {},
   "outputs": [
    {
     "name": "stdout",
     "output_type": "stream",
     "text": [
      "4\n",
      "2\n",
      "6\n",
      "YES\n"
     ]
    }
   ],
   "source": [
    "n = int(input())\n",
    "m = int(input())\n",
    "k = int(input()) \n",
    "if ((n*m-k)%n == 0 or (n*m-k)%m == 0):\n",
    "    print (\"YES\")\n",
    "else:\n",
    "    print (\"NO\")"
   ]
  },
  {
   "cell_type": "markdown",
   "metadata": {},
   "source": [
    "## Задача 9"
   ]
  },
  {
   "cell_type": "code",
   "execution_count": 9,
   "metadata": {},
   "outputs": [
    {
     "name": "stdout",
     "output_type": "stream",
     "text": [
      "2\n",
      "2 korovy\n"
     ]
    }
   ],
   "source": [
    "n = int(input())\n",
    "if (10 < n < 20 or 5 < n % 10 < 9 or n % 10 == 0):\n",
    "    print (n, \"korov\")\n",
    "elif (n % 10 == 1):\n",
    "    print (n, \"korova\")\n",
    "else:\n",
    "    print (n, \"korovy\")"
   ]
  },
  {
   "cell_type": "markdown",
   "metadata": {},
   "source": [
    "## Задача 10"
   ]
  },
  {
   "cell_type": "code",
   "execution_count": 10,
   "metadata": {},
   "outputs": [
    {
     "name": "stdout",
     "output_type": "stream",
     "text": [
      "3\n",
      "1\n"
     ]
    }
   ],
   "source": [
    "x = int(input())\n",
    "if (x < 0):\n",
    "    print (-1)\n",
    "elif (x > 0):\n",
    "    print (1)\n",
    "else:\n",
    "    print (0)"
   ]
  },
  {
   "cell_type": "markdown",
   "metadata": {},
   "source": [
    "## Задача 11"
   ]
  },
  {
   "cell_type": "code",
   "execution_count": 11,
   "metadata": {},
   "outputs": [
    {
     "name": "stdout",
     "output_type": "stream",
     "text": [
      "3\n",
      "3\n",
      "5\n",
      "1\n",
      "YES\n"
     ]
    }
   ],
   "source": [
    "x1 = int(input())\n",
    "y1 = int(input())\n",
    "x2 = int(input())\n",
    "y2 = int(input())\n",
    "if x1*x2>0 and y1*y2>0:\n",
    "    print(\"YES\")\n",
    "else:\n",
    "    print(\"NO\") "
   ]
  },
  {
   "cell_type": "markdown",
   "metadata": {},
   "source": [
    "## Задача 12"
   ]
  },
  {
   "cell_type": "code",
   "execution_count": 12,
   "metadata": {},
   "outputs": [
    {
     "name": "stdout",
     "output_type": "stream",
     "text": [
      "1\n",
      "1\n",
      "2\n",
      "2\n",
      "YES\n"
     ]
    }
   ],
   "source": [
    "x1 = int(input())\n",
    "y1 = int(input())\n",
    "x2 = int(input())\n",
    "y2 = int(input())\n",
    "if (y2 <= y1 or (x1 + y1) % 2 != (x2 + y2) % 2):\n",
    "    print('NO')\n",
    "else:\n",
    "    if (x1 - (y2 - y1) <= x2 <= x1 + (y2 - y1)):\n",
    "        print('YES')\n",
    "    else:\n",
    "        print('NO')"
   ]
  },
  {
   "cell_type": "markdown",
   "metadata": {},
   "source": [
    "## Задача 13"
   ]
  },
  {
   "cell_type": "code",
   "execution_count": 13,
   "metadata": {},
   "outputs": [
    {
     "name": "stdout",
     "output_type": "stream",
     "text": [
      "3\n",
      "5\n",
      "4\n",
      "rectangular\n"
     ]
    }
   ],
   "source": [
    "a = int(input())\n",
    "b = int(input())\n",
    "c = int(input())\n",
    "if (a > c or b > c):\n",
    "    if (a > b):\n",
    "        a, c = c, a\n",
    "    else:\n",
    "        b, c = c, b\n",
    "if (a + b <= c):\n",
    "    print (\"impossible\")\n",
    "else:\n",
    "    if (c*c == a*a + b*b):\n",
    "        print (\"rectangular\")\n",
    "    elif (c*c > a*a + b*b):\n",
    "        print (\"obtuse\")\n",
    "    else:\n",
    "        print (\"acute\")"
   ]
  },
  {
   "cell_type": "markdown",
   "metadata": {},
   "source": [
    "## Задача 14"
   ]
  },
  {
   "cell_type": "code",
   "execution_count": 14,
   "metadata": {},
   "outputs": [
    {
     "name": "stdout",
     "output_type": "stream",
     "text": [
      "3\n",
      "4\n",
      "5\n",
      "YES\n"
     ]
    }
   ],
   "source": [
    "a = int(input())\n",
    "b = int(input())\n",
    "c = int(input())\n",
    "if (a%2 == 0 or b%2 == 0 or c%2 == 0):\n",
    "    if (a%2 != 0 or b%2 != 0 or c%2 != 0):\n",
    "        print (\"YES\")\n",
    "    else:\n",
    "        print (\"NO\")\n",
    "else:\n",
    "    print (\"NO\")"
   ]
  },
  {
   "cell_type": "markdown",
   "metadata": {},
   "source": [
    "## Задача 15"
   ]
  },
  {
   "cell_type": "code",
   "execution_count": 15,
   "metadata": {},
   "outputs": [
    {
     "name": "stdout",
     "output_type": "stream",
     "text": [
      "1\n",
      "2\n",
      "1\n",
      "1 1 2\n"
     ]
    }
   ],
   "source": [
    "a = int(input())\n",
    "b = int(input())\n",
    "c = int(input())\n",
    "if (a > c or b > c):\n",
    "    if (a > b):\n",
    "        a, c = c, a\n",
    "    else:\n",
    "        b, c = c, b\n",
    "if (a > b):\n",
    "    a, b = b, a\n",
    "print (a, b, c)"
   ]
  },
  {
   "cell_type": "markdown",
   "metadata": {},
   "source": [
    "## Задача 16"
   ]
  },
  {
   "cell_type": "code",
   "execution_count": 16,
   "metadata": {},
   "outputs": [
    {
     "name": "stdout",
     "output_type": "stream",
     "text": [
      "1\n",
      "2\n",
      "3\n",
      "0\n"
     ]
    }
   ],
   "source": [
    "a = int(input())\n",
    "b = int(input())\n",
    "c = int(input())\n",
    "if (a == b == c):\n",
    "    print (3)\n",
    "elif (a == b or b == c or a == c):\n",
    "    print (2)\n",
    "else:\n",
    "    print (0)"
   ]
  },
  {
   "cell_type": "markdown",
   "metadata": {},
   "source": [
    "## Задача 17"
   ]
  },
  {
   "cell_type": "code",
   "execution_count": 18,
   "metadata": {},
   "outputs": [
    {
     "name": "stdout",
     "output_type": "stream",
     "text": [
      "1\n",
      "1\n",
      "1\n",
      "1\n",
      "1\n",
      "YES\n"
     ]
    }
   ],
   "source": [
    "a = int(input())\n",
    "b = int(input())\n",
    "c = int(input())\n",
    "d = int(input())\n",
    "e = int(input())\n",
    "if (a > c or b > c):\n",
    "    if (a > b):\n",
    "        a, c = c, a\n",
    "    else:\n",
    "        b, c = c, b\n",
    "if (a > b):\n",
    "    a, b = b, a\n",
    "if (d > e):\n",
    "    d, e = e, d\n",
    "if (b <= e and a <= d):\n",
    "    print (\"YES\")\n",
    "else:\n",
    "    print (\"NO\")"
   ]
  },
  {
   "cell_type": "markdown",
   "metadata": {},
   "source": [
    "## Задача 18"
   ]
  },
  {
   "cell_type": "code",
   "execution_count": 19,
   "metadata": {},
   "outputs": [
    {
     "name": "stdout",
     "output_type": "stream",
     "text": [
      "1\n",
      "2\n",
      "3\n",
      "3\n",
      "2\n",
      "1\n",
      "Boxes are equal\n"
     ]
    }
   ],
   "source": [
    "a1 = int(input())\n",
    "b1 = int(input())\n",
    "c1 = int(input())\n",
    "a2 = int(input())\n",
    "b2 = int(input())\n",
    "c2 = int(input())\n",
    "\n",
    "if (a1 > c1 or b1 > c1):\n",
    "    if (a1 > b1):\n",
    "        a1, c1 = c1, a1\n",
    "    else:\n",
    "        b1, c1 = c1, b1\n",
    "if (a1 > b1):\n",
    "    a1, b1 = b1, a1\n",
    "\n",
    "if (a2 > c2 or b2 > c2):\n",
    "    if (a2 > b2):\n",
    "        a2, c2 = c2, a2\n",
    "    else:\n",
    "        b2, c2 = c2, b2\n",
    "if (a2 > b2):\n",
    "    a2, b2 = b2, a2\n",
    "\n",
    "if (a1 == a2 and b1 == b2 and c1 == c2):\n",
    "    print (\"Boxes are equal\")\n",
    "elif (a1 < a2 and b1 < b2 and c1 < c2):\n",
    "    print (\"The first box is smaller than the second one\")\n",
    "elif (a1 > a2 and b1 > b2 and c1 > c2):\n",
    "    print (\"The first box is larger than the second one\")\n",
    "else:\n",
    "    print (\"Boxes are incomparable\")\n"
   ]
  },
  {
   "cell_type": "markdown",
   "metadata": {},
   "source": [
    "## Задача 19"
   ]
  },
  {
   "cell_type": "code",
   "execution_count": 20,
   "metadata": {},
   "outputs": [
    {
     "name": "stdout",
     "output_type": "stream",
     "text": [
      "7\n",
      "7\n",
      "7\n",
      "3\n",
      "3\n",
      "3\n",
      "8\n"
     ]
    }
   ],
   "source": [
    "a1 = int(input())\n",
    "b1 = int(input())\n",
    "c1 = int(input())\n",
    "a2 = int(input())\n",
    "b2 = int(input())\n",
    "c2 = int(input())\n",
    "m1 = (a1 // a2) * (b1 // b2) * (c1 // c2)\n",
    "m2 = (a1 // a2) * (b1 // c2) * (c1 // b2)\n",
    "m3 = (a1 // b2) * (b1 // a2) * (c1 // c2)\n",
    "m4 = (a1 // b2) * (b1 // c2) * (c1 // a2)\n",
    "m5 = (a1 // c2) * (b1 // a2) * (c1 // b2)\n",
    "m6 = (a1 // c2) * (b1 // b2) * (c1 // a2)\n",
    "print(max(m1, m2, m3, m4, m5, m6))"
   ]
  },
  {
   "cell_type": "markdown",
   "metadata": {},
   "source": [
    "## Задача 20"
   ]
  },
  {
   "cell_type": "code",
   "execution_count": 21,
   "metadata": {},
   "outputs": [
    {
     "name": "stdout",
     "output_type": "stream",
     "text": [
      "2\n",
      "NO\n"
     ]
    }
   ],
   "source": [
    "k = int(input())\n",
    "if (k<3 or k == 4 or k == 7):\n",
    "    print (\"NO\")\n",
    "else:\n",
    "    print (\"YES\")"
   ]
  },
  {
   "cell_type": "markdown",
   "metadata": {},
   "source": [
    "## Задача 21"
   ]
  },
  {
   "cell_type": "code",
   "execution_count": 22,
   "metadata": {},
   "outputs": [
    {
     "name": "stdout",
     "output_type": "stream",
     "text": [
      "2\n",
      "-4\n",
      "7\n",
      "1\n",
      "2.0\n"
     ]
    }
   ],
   "source": [
    "a = int(input())\n",
    "b = int(input())\n",
    "c = int(input())\n",
    "d = int(input())\n",
    "if (a == b == 0):\n",
    "    print (\"INF\")\n",
    "elif (-b/a == -d/c):\n",
    "    print (\"NO\")\n",
    "else:\n",
    "    print (-b/a)"
   ]
  },
  {
   "cell_type": "markdown",
   "metadata": {},
   "source": [
    "## Задача 22"
   ]
  },
  {
   "cell_type": "code",
   "execution_count": 23,
   "metadata": {},
   "outputs": [
    {
     "name": "stdout",
     "output_type": "stream",
     "text": [
      "1\n",
      "2\n",
      "5\n",
      "20\n"
     ]
    }
   ],
   "source": [
    "from math import ceil \n",
    "k = int(input())\n",
    "m = int(input())\n",
    "n = int(input())\n",
    "print (ceil(n/k)*m*2)"
   ]
  },
  {
   "cell_type": "markdown",
   "metadata": {},
   "source": [
    "## Задача 23"
   ]
  },
  {
   "cell_type": "code",
   "execution_count": 24,
   "metadata": {},
   "outputs": [
    {
     "name": "stdout",
     "output_type": "stream",
     "text": [
      "0\n",
      "2\n",
      "4\n",
      "5\n",
      "3\n",
      "6\n",
      "1\n"
     ]
    }
   ],
   "source": [
    "l1 = int(input())\n",
    "r1 = int(input())\n",
    "l2 = int(input())\n",
    "r2 = int(input())\n",
    "l3 = int(input())\n",
    "r3 = int(input())\n",
    "if ((l2 - r1) <= 1) and ((l3-r2) > 1) and (l1 < l2) and (l2 < r3) and (l1 < r3):\n",
    "    print(3)\n",
    "elif ((l2-r1) > 1) and ((l3-r2) > 1) and (l2-r1) <= (r3-l3):\n",
    "    print(3)\n",
    "elif ((l2-r1) > 1) and ((l3-r2) <= 1):\n",
    "    print(1)\n",
    "elif ((l2-r1) <= 1) and (((l3-r2) <= 1) or ((l3-r1) <= 1)):\n",
    "    print(0)\n",
    "else:\n",
    "    print(-1)"
   ]
  },
  {
   "cell_type": "markdown",
   "metadata": {},
   "source": [
    "## Задача 24"
   ]
  },
  {
   "cell_type": "code",
   "execution_count": 25,
   "metadata": {},
   "outputs": [
    {
     "name": "stdout",
     "output_type": "stream",
     "text": [
      "4 1 2\n",
      "3 3 2\n",
      "4 3 4\n",
      "YES\n"
     ]
    }
   ],
   "source": [
    "check = True\n",
    "l1, w1, h1 = map(int, input().split())\n",
    "l2, w2, h2 = map(int, input().split())\n",
    "lc, wc, hc = map(int, input().split())\n",
    "l1, w1 = max(l1, w1), min(l1, w1)\n",
    "l2, w2 = max(l2, w2), min(l2, w2)\n",
    "lc, wc = max(lc, wc), min(lc, wc)\n",
    "if (l1 <= lc and w1 <= wc and l2 <= lc and w2 <= wc):\n",
    "    if (h1 > hc or h2 > hc):\n",
    "        print (\"NO\")\n",
    "        check = False\n",
    "    if (check and l1 <= lc and w1 <= wc):\n",
    "        if (check and l2 <= wc-w1 and w2 <= lc):\n",
    "            print (\"YES\")\n",
    "            check = False\n",
    "        elif (check and w2 <= wc-w1 and l2 <= lc):\n",
    "            print (\"YES\")\n",
    "            check = False\n",
    "        elif (check and l2 <= lc-l1 and w2 <= wc):\n",
    "            print (\"YES\")\n",
    "            check = False\n",
    "        elif (check and w2 <= lc-l1 and l2 <= wc):\n",
    "            print (\"YES\")\n",
    "            check = False\n",
    "        elif (check and w2 <= lc-l1 and l2 <= wc):\n",
    "            print (\"YES\")\n",
    "            check = False\n",
    "    if (check and w1 <= lc and l1 <= wc):\n",
    "        if (check and l2 <= wc-l1 and w2 <= lc):\n",
    "            print (\"YES\")\n",
    "            check = False\n",
    "        elif (check and l2 <= lc and w2 <= wc-l1):\n",
    "            print (\"YES\")\n",
    "            check = False\n",
    "        elif (check and l2 <= lc-w1 and w2 <= wc):\n",
    "            print (\"YES\")\n",
    "            check = False\n",
    "        elif (check and w2 <= lc-w1 and l2 <= wc):\n",
    "            print (\"YES\")\n",
    "            check = False\n",
    "    if (check and h1+h2 <= hc and l1 <= lc and w1 <= wc and l2 <= lc and w2 <= wc):\n",
    "        print (\"YES\")\n",
    "        check = False\n",
    "    elif (check):\n",
    "        print (\"NO\")\n",
    "else:\n",
    "    print (\"NO\")\n",
    "        "
   ]
  }
 ],
 "metadata": {
  "kernelspec": {
   "display_name": "Python 3",
   "language": "python",
   "name": "python3"
  },
  "language_info": {
   "codemirror_mode": {
    "name": "ipython",
    "version": 3
   },
   "file_extension": ".py",
   "mimetype": "text/x-python",
   "name": "python",
   "nbconvert_exporter": "python",
   "pygments_lexer": "ipython3",
   "version": "3.7.6"
  }
 },
 "nbformat": 4,
 "nbformat_minor": 4
}
