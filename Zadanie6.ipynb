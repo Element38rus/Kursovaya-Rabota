{
 "cells": [
  {
   "cell_type": "markdown",
   "metadata": {},
   "source": [
    "## Задача 1"
   ]
  },
  {
   "cell_type": "code",
   "execution_count": 1,
   "metadata": {},
   "outputs": [
    {
     "name": "stdout",
     "output_type": "stream",
     "text": [
      "3\n",
      "1.3611111111111112\n"
     ]
    }
   ],
   "source": [
    "n = int(input())\n",
    "sum = 0\n",
    "for i in range(1,n+1):\n",
    "    sum += 1/(i*i)\n",
    "print (sum)"
   ]
  },
  {
   "cell_type": "markdown",
   "metadata": {},
   "source": [
    "## Задача 2"
   ]
  },
  {
   "cell_type": "code",
   "execution_count": 2,
   "metadata": {},
   "outputs": [
    {
     "name": "stdout",
     "output_type": "stream",
     "text": [
      "17.9\n",
      "0.9\n"
     ]
    }
   ],
   "source": [
    "from decimal import Decimal\n",
    "print (Decimal(input())%1)"
   ]
  },
  {
   "cell_type": "markdown",
   "metadata": {},
   "source": [
    "## Задача 3"
   ]
  },
  {
   "cell_type": "code",
   "execution_count": 3,
   "metadata": {},
   "outputs": [
    {
     "name": "stdout",
     "output_type": "stream",
     "text": [
      "10.35\n",
      "10 35\n"
     ]
    }
   ],
   "source": [
    "n = Decimal(input())\n",
    "print (n//1, round(n%1*100))"
   ]
  },
  {
   "cell_type": "markdown",
   "metadata": {},
   "source": [
    "## Задача 4 "
   ]
  },
  {
   "cell_type": "code",
   "execution_count": 4,
   "metadata": {},
   "outputs": [
    {
     "name": "stdout",
     "output_type": "stream",
     "text": [
      "2.3\n",
      "2\n"
     ]
    }
   ],
   "source": [
    "print (int(Decimal(input()) + Decimal(0.5)))"
   ]
  },
  {
   "cell_type": "markdown",
   "metadata": {},
   "source": [
    "## Задача 5"
   ]
  },
  {
   "cell_type": "code",
   "execution_count": 5,
   "metadata": {},
   "outputs": [
    {
     "name": "stdout",
     "output_type": "stream",
     "text": [
      "12\n",
      "179\n",
      "0\n",
      "200 48\n"
     ]
    }
   ],
   "source": [
    "P = Decimal(1.0) + Decimal(input())*Decimal(0.01)\n",
    "X = int(input())\n",
    "Y = int(input())\n",
    "XY = X*100 + Y\n",
    "XY = int(XY * P)\n",
    "print (XY//100, XY%100)"
   ]
  },
  {
   "cell_type": "markdown",
   "metadata": {},
   "source": [
    "## Задача 6"
   ]
  },
  {
   "cell_type": "code",
   "execution_count": 6,
   "metadata": {},
   "outputs": [
    {
     "name": "stdout",
     "output_type": "stream",
     "text": [
      "13\n",
      "179\n",
      "0\n",
      "100\n",
      "36360285 50\n"
     ]
    }
   ],
   "source": [
    "P = Decimal(1.0) + Decimal(input())*Decimal(0.01)\n",
    "X = int(input())\n",
    "Y = int(input())\n",
    "K = int(input())\n",
    "XY = 100*X + Y\n",
    "for i in range(K):\n",
    "    XY = int(XY * P)\n",
    "print (XY//100, XY%100)"
   ]
  },
  {
   "cell_type": "markdown",
   "metadata": {},
   "source": [
    "## Задача 7"
   ]
  },
  {
   "cell_type": "code",
   "execution_count": 7,
   "metadata": {},
   "outputs": [
    {
     "name": "stdout",
     "output_type": "stream",
     "text": [
      "2\n",
      "0.5\n",
      "1\n",
      "1\n",
      "1\n",
      "1.75\n"
     ]
    }
   ],
   "source": [
    "n, x, a = Decimal(input()), Decimal(input()), Decimal(input())\n",
    "an, i = a, 0\n",
    "while (i < n):\n",
    "    a = Decimal(input())\n",
    "    an = an * x + a\n",
    "    i += 1\n",
    "print(an)"
   ]
  },
  {
   "cell_type": "markdown",
   "metadata": {},
   "source": [
    "## Задача 8"
   ]
  },
  {
   "cell_type": "code",
   "execution_count": 8,
   "metadata": {},
   "outputs": [
    {
     "name": "stdout",
     "output_type": "stream",
     "text": [
      "1\n",
      "7\n",
      "9\n",
      "0\n",
      "4.163331998932266\n"
     ]
    }
   ],
   "source": [
    "sum = 0\n",
    "sum_sq = 0\n",
    "x = int(input())\n",
    "n = 0\n",
    "while (x != 0):\n",
    "    n += 1\n",
    "    sum += x\n",
    "    sum_sq += x ** 2\n",
    "    x = int(input())\n",
    "print(((sum_sq - sum ** 2 / n) / (n - 1))**0.5)"
   ]
  },
  {
   "cell_type": "markdown",
   "metadata": {},
   "source": [
    "## Задача 9"
   ]
  },
  {
   "cell_type": "code",
   "execution_count": 9,
   "metadata": {},
   "outputs": [
    {
     "name": "stdout",
     "output_type": "stream",
     "text": [
      "1\n",
      "-1\n",
      "-2\n",
      "-1.0 2.0\n"
     ]
    }
   ],
   "source": [
    "a, b, c = float(input()), float(input()), float(input())\n",
    "D = b*b - 4*a*c\n",
    "if (D > 0):\n",
    "    print ((-b - D**0.5) / 2*a, (-b + D**0.5) / 2*a)\n",
    "elif (D == 0):\n",
    "    print (-b / 2*a)"
   ]
  },
  {
   "cell_type": "markdown",
   "metadata": {},
   "source": [
    "## Задача 10"
   ]
  },
  {
   "cell_type": "code",
   "execution_count": 10,
   "metadata": {},
   "outputs": [
    {
     "name": "stdout",
     "output_type": "stream",
     "text": [
      "1\n",
      "2\n",
      "1\n",
      "1 -1.0\n"
     ]
    }
   ],
   "source": [
    "a, b, c = float(input()), float(input()), float(input())\n",
    "if (a == 0 and b == 0 and c == 0):\n",
    "    print (3)\n",
    "else:\n",
    "    D = b*b - 4*a*c\n",
    "    if (D > 0):\n",
    "        print (2, (-b - D**0.5) / 2*a, (-b + D**0.5) / 2*a)\n",
    "    elif (D == 0):\n",
    "        print (1, -b / 2*a)\n",
    "    else:\n",
    "        print (0)"
   ]
  },
  {
   "cell_type": "markdown",
   "metadata": {},
   "source": [
    "## Задача 11"
   ]
  },
  {
   "cell_type": "code",
   "execution_count": 11,
   "metadata": {},
   "outputs": [
    {
     "name": "stdout",
     "output_type": "stream",
     "text": [
      "3\n",
      "5\n",
      "4\n",
      "4\n",
      "11\n",
      "12\n",
      "2.0 1.0\n"
     ]
    }
   ],
   "source": [
    "a, b, c, d, e, f = float(input()), float(input()), float(input()), float(input()), float(input()), float(input())\n",
    "if b != 0:\n",
    "    y = (c * e - a * f) / (b * c - a * d)\n",
    "    if c != 0:\n",
    "        x = (f - d * y) / c\n",
    "        print(x, y)\n",
    "else:\n",
    "    x = (f * b - d * e) / (b * c - a * d)\n",
    "    if d != 0:\n",
    "        y = (f - c * x) / d\n",
    "        print(x, y)"
   ]
  },
  {
   "cell_type": "markdown",
   "metadata": {},
   "source": [
    "## Задача 12"
   ]
  },
  {
   "cell_type": "code",
   "execution_count": 12,
   "metadata": {},
   "outputs": [
    {
     "name": "stdout",
     "output_type": "stream",
     "text": [
      "1\n",
      "0\n",
      "0\n",
      "1\n",
      "3\n",
      "3\n",
      "2 3.0 3.0\n"
     ]
    }
   ],
   "source": [
    "a, b, c, d, e, f = float(input()), float(input()), float(input()), float(input()), float(input()), float(input())\n",
    "if (a == 0 and b == 0 and c == 0 and d == 0 and e == 0 and f == 0):\n",
    "    print(5)\n",
    "elif (a * d == b * c and a * f != c * e):\n",
    "    print(0)\n",
    "elif (a == 0 and b == 0 and e != 0):\n",
    "    print(0)\n",
    "elif (c == 0 and d == 0 and f != 0):\n",
    "    print(0)\n",
    "elif (a == 0 and c == 0 and b * f != d * e):\n",
    "    print(0)\n",
    "elif (b == 0 and d == 0 and a * f != c * e):\n",
    "    print(0)\n",
    "elif (a * d == b * c and a * f == c * e):\n",
    "    if (b == 0 and d == 0):\n",
    "        if (a != 0 and c != 0):\n",
    "            print(3, e / a)\n",
    "        elif (a == 0):\n",
    "            if (e == 0):\n",
    "                print(3, f / c)\n",
    "        elif (c == 0):\n",
    "            if (f == 0):\n",
    "                print(3, e / a)\n",
    "    elif (a == 0 and c == 0):\n",
    "        if (b != 0):\n",
    "            print(4, e / b)\n",
    "        elif (d != 0):\n",
    "            print(4, f / d)\n",
    "    elif (b != 0):\n",
    "        print(1, -a / b, e / b)\n",
    "    elif (d != 0):\n",
    "        print(1, -c / d, f / d)\n",
    "else:\n",
    "    x = (e * d - b * f) / (a * d - b * c)\n",
    "    y = (a * f - e * c) / (a * d - b * c)\n",
    "    print(2, x, y)"
   ]
  },
  {
   "cell_type": "markdown",
   "metadata": {},
   "source": [
    "## Задача 13"
   ]
  },
  {
   "cell_type": "code",
   "execution_count": 13,
   "metadata": {},
   "outputs": [
    {
     "name": "stdout",
     "output_type": "stream",
     "text": [
      "Abrakadabra\n",
      "r\n",
      "r\n",
      "Abrak\n",
      "Abrakadab\n",
      "Arkdba\n",
      "baaar\n",
      "arbadakarbA\n",
      "abdkrA\n",
      "11\n"
     ]
    }
   ],
   "source": [
    "s = str(input())\n",
    "print (s[2])\n",
    "print (s[-2])\n",
    "print (s[:5])\n",
    "print (s[:-2])\n",
    "print (s[::2])\n",
    "print (s[1::2])\n",
    "print (s[::-1])\n",
    "print (s[::-2])\n",
    "print (len(s))"
   ]
  },
  {
   "cell_type": "markdown",
   "metadata": {},
   "source": [
    "## Задача 14"
   ]
  },
  {
   "cell_type": "code",
   "execution_count": 14,
   "metadata": {},
   "outputs": [
    {
     "name": "stdout",
     "output_type": "stream",
     "text": [
      "office\n",
      "1 2\n"
     ]
    }
   ],
   "source": [
    "s = str(input())\n",
    "if (s.find('f') != -1):\n",
    "    if (s.find('f') != s.rfind('f')):\n",
    "        print (s.find('f'), s.rfind('f'))\n",
    "    else:\n",
    "        print (s.find('f'))"
   ]
  },
  {
   "cell_type": "markdown",
   "metadata": {},
   "source": [
    "## Задача 15"
   ]
  },
  {
   "cell_type": "code",
   "execution_count": 15,
   "metadata": {},
   "outputs": [
    {
     "name": "stdout",
     "output_type": "stream",
     "text": [
      "In the hole in the ground there lived a hobbit\n",
      "In tobbit\n"
     ]
    }
   ],
   "source": [
    "s = str(input())\n",
    "print (s[:s.find('h')] + s[s.rfind('h')+1:])"
   ]
  },
  {
   "cell_type": "markdown",
   "metadata": {},
   "source": [
    "## Задача 16"
   ]
  },
  {
   "cell_type": "code",
   "execution_count": 16,
   "metadata": {},
   "outputs": [
    {
     "name": "stdout",
     "output_type": "stream",
     "text": [
      "In the hole in the ground there lived a hobbit\n",
      "In the hole in the ground there lived a e hole in the ground there lived a hobbit\n"
     ]
    }
   ],
   "source": [
    "s = str(input())\n",
    "print (s[:s.find('h')+1] + s[s.find('h')+1:s.rfind('h')]*2 + s[s.rfind('h'):])"
   ]
  },
  {
   "cell_type": "markdown",
   "metadata": {},
   "source": [
    "## Задача 17"
   ]
  },
  {
   "cell_type": "code",
   "execution_count": 17,
   "metadata": {},
   "outputs": [
    {
     "name": "stdout",
     "output_type": "stream",
     "text": [
      "coffee\n",
      "3\n"
     ]
    }
   ],
   "source": [
    "s = str(input())\n",
    "if (s.find('f') == -1):\n",
    "    print (-2)\n",
    "else:\n",
    "    if (s.find('f') == s.rfind('f')):\n",
    "        print (-1)\n",
    "    else:\n",
    "        copy = s[:s.find('f')] + s[s.find('f')+1:]\n",
    "        print (copy.find('f')+1)"
   ]
  },
  {
   "cell_type": "markdown",
   "metadata": {},
   "source": [
    "## Задача 18"
   ]
  },
  {
   "cell_type": "code",
   "execution_count": 18,
   "metadata": {},
   "outputs": [
    {
     "name": "stdout",
     "output_type": "stream",
     "text": [
      "Hello, world!\n",
      "world! Hello,\n"
     ]
    }
   ],
   "source": [
    "s1 = str(input()).split()\n",
    "s2 = s1[1] + \" \" + s1[0]\n",
    "print (s2)"
   ]
  },
  {
   "cell_type": "markdown",
   "metadata": {},
   "source": [
    "## Задача 19"
   ]
  },
  {
   "cell_type": "code",
   "execution_count": 19,
   "metadata": {},
   "outputs": [
    {
     "name": "stdout",
     "output_type": "stream",
     "text": [
      "Hello world\n",
      "2\n"
     ]
    }
   ],
   "source": [
    "print(input().count(' ') + 1)"
   ]
  },
  {
   "cell_type": "markdown",
   "metadata": {},
   "source": [
    "## Задача 20"
   ]
  },
  {
   "cell_type": "code",
   "execution_count": 20,
   "metadata": {},
   "outputs": [
    {
     "name": "stdout",
     "output_type": "stream",
     "text": [
      "1+1=2\n",
      "one+one=2\n"
     ]
    }
   ],
   "source": [
    "print(input().replace('1', 'one'))"
   ]
  },
  {
   "cell_type": "markdown",
   "metadata": {},
   "source": [
    "## Задача 21"
   ]
  },
  {
   "cell_type": "code",
   "execution_count": 21,
   "metadata": {},
   "outputs": [
    {
     "name": "stdout",
     "output_type": "stream",
     "text": [
      "Bilbo.Baggins@bagend.hobbiton.shire.me\n",
      "Bilbo.Bagginsbagend.hobbiton.shire.me\n"
     ]
    }
   ],
   "source": [
    "print(input().replace('@', ''))"
   ]
  },
  {
   "cell_type": "markdown",
   "metadata": {},
   "source": [
    "## Задача 22"
   ]
  },
  {
   "cell_type": "code",
   "execution_count": 22,
   "metadata": {},
   "outputs": [
    {
     "name": "stdout",
     "output_type": "stream",
     "text": [
      "In the hole in the ground there lived a hobbit\n",
      "In the Hole in tHe ground tHere lived a hobbit\n"
     ]
    }
   ],
   "source": [
    "s1 = str(input())\n",
    "s2 = s1[s1.find('h') + 1:s1.rfind('h')]\n",
    "s1 = s1[:s1.find('h') + 1] + s2.replace('h', 'H') + s1[s1.rfind('h'):]\n",
    "print (s1)"
   ]
  },
  {
   "cell_type": "markdown",
   "metadata": {},
   "source": [
    "## Задача 23"
   ]
  },
  {
   "cell_type": "code",
   "execution_count": 23,
   "metadata": {},
   "outputs": [
    {
     "name": "stdout",
     "output_type": "stream",
     "text": [
      "Python\n",
      "P*y*t*h*o*n\n"
     ]
    }
   ],
   "source": [
    "print(\"*\".join(input()))"
   ]
  },
  {
   "cell_type": "markdown",
   "metadata": {},
   "source": [
    "## Задача 24"
   ]
  },
  {
   "cell_type": "code",
   "execution_count": 24,
   "metadata": {},
   "outputs": [
    {
     "name": "stdout",
     "output_type": "stream",
     "text": [
      "Python\n",
      "yton\n"
     ]
    }
   ],
   "source": [
    "s1 = str(input())\n",
    "s2 = \"\"\n",
    "for i in range(0,len(s1)-1,3):\n",
    "    s2 += s1[i+1] + s1[i+2]\n",
    "print (s2)"
   ]
  }
 ],
 "metadata": {
  "kernelspec": {
   "display_name": "Python 3",
   "language": "python",
   "name": "python3"
  },
  "language_info": {
   "codemirror_mode": {
    "name": "ipython",
    "version": 3
   },
   "file_extension": ".py",
   "mimetype": "text/x-python",
   "name": "python",
   "nbconvert_exporter": "python",
   "pygments_lexer": "ipython3",
   "version": "3.7.6"
  }
 },
 "nbformat": 4,
 "nbformat_minor": 4
}
